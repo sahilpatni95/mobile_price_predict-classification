{
 "cells": [
  {
   "cell_type": "code",
   "execution_count": 1,
   "metadata": {},
   "outputs": [],
   "source": [
    "import pandas as pd"
   ]
  },
  {
   "cell_type": "code",
   "execution_count": 2,
   "metadata": {},
   "outputs": [],
   "source": [
    "df = pd.read_csv('mobile_price_classification.csv')"
   ]
  },
  {
   "cell_type": "code",
   "execution_count": 3,
   "metadata": {},
   "outputs": [
    {
     "data": {
      "text/html": [
       "<div>\n",
       "<style scoped>\n",
       "    .dataframe tbody tr th:only-of-type {\n",
       "        vertical-align: middle;\n",
       "    }\n",
       "\n",
       "    .dataframe tbody tr th {\n",
       "        vertical-align: top;\n",
       "    }\n",
       "\n",
       "    .dataframe thead th {\n",
       "        text-align: right;\n",
       "    }\n",
       "</style>\n",
       "<table border=\"1\" class=\"dataframe\">\n",
       "  <thead>\n",
       "    <tr style=\"text-align: right;\">\n",
       "      <th></th>\n",
       "      <th>id</th>\n",
       "      <th>battery_power</th>\n",
       "      <th>blue</th>\n",
       "      <th>clock_speed</th>\n",
       "      <th>dual_sim</th>\n",
       "      <th>fc</th>\n",
       "      <th>four_g</th>\n",
       "      <th>int_memory</th>\n",
       "      <th>m_dep</th>\n",
       "      <th>mobile_wt</th>\n",
       "      <th>...</th>\n",
       "      <th>px_height</th>\n",
       "      <th>px_width</th>\n",
       "      <th>ram</th>\n",
       "      <th>sc_h</th>\n",
       "      <th>sc_w</th>\n",
       "      <th>talk_time</th>\n",
       "      <th>three_g</th>\n",
       "      <th>touch_screen</th>\n",
       "      <th>wifi</th>\n",
       "      <th>price_range</th>\n",
       "    </tr>\n",
       "  </thead>\n",
       "  <tbody>\n",
       "    <tr>\n",
       "      <th>0</th>\n",
       "      <td>1</td>\n",
       "      <td>842</td>\n",
       "      <td>0</td>\n",
       "      <td>2.2</td>\n",
       "      <td>0</td>\n",
       "      <td>1.0</td>\n",
       "      <td>0</td>\n",
       "      <td>7</td>\n",
       "      <td>0.6</td>\n",
       "      <td>188.0</td>\n",
       "      <td>...</td>\n",
       "      <td>20</td>\n",
       "      <td>756</td>\n",
       "      <td>2549.0</td>\n",
       "      <td>9</td>\n",
       "      <td>7</td>\n",
       "      <td>19</td>\n",
       "      <td>0</td>\n",
       "      <td>0</td>\n",
       "      <td>1</td>\n",
       "      <td>1</td>\n",
       "    </tr>\n",
       "    <tr>\n",
       "      <th>1</th>\n",
       "      <td>2</td>\n",
       "      <td>1021</td>\n",
       "      <td>1</td>\n",
       "      <td>0.5</td>\n",
       "      <td>1</td>\n",
       "      <td>NaN</td>\n",
       "      <td>1</td>\n",
       "      <td>53</td>\n",
       "      <td>0.7</td>\n",
       "      <td>136.0</td>\n",
       "      <td>...</td>\n",
       "      <td>905</td>\n",
       "      <td>1988</td>\n",
       "      <td>NaN</td>\n",
       "      <td>17</td>\n",
       "      <td>3</td>\n",
       "      <td>7</td>\n",
       "      <td>1</td>\n",
       "      <td>1</td>\n",
       "      <td>0</td>\n",
       "      <td>2</td>\n",
       "    </tr>\n",
       "    <tr>\n",
       "      <th>2</th>\n",
       "      <td>3</td>\n",
       "      <td>563</td>\n",
       "      <td>1</td>\n",
       "      <td>0.5</td>\n",
       "      <td>1</td>\n",
       "      <td>2.0</td>\n",
       "      <td>1</td>\n",
       "      <td>41</td>\n",
       "      <td>0.9</td>\n",
       "      <td>NaN</td>\n",
       "      <td>...</td>\n",
       "      <td>1263</td>\n",
       "      <td>1716</td>\n",
       "      <td>2603.0</td>\n",
       "      <td>11</td>\n",
       "      <td>2</td>\n",
       "      <td>9</td>\n",
       "      <td>1</td>\n",
       "      <td>1</td>\n",
       "      <td>0</td>\n",
       "      <td>2</td>\n",
       "    </tr>\n",
       "    <tr>\n",
       "      <th>3</th>\n",
       "      <td>4</td>\n",
       "      <td>615</td>\n",
       "      <td>1</td>\n",
       "      <td>2.5</td>\n",
       "      <td>0</td>\n",
       "      <td>NaN</td>\n",
       "      <td>0</td>\n",
       "      <td>10</td>\n",
       "      <td>0.8</td>\n",
       "      <td>131.0</td>\n",
       "      <td>...</td>\n",
       "      <td>1216</td>\n",
       "      <td>1786</td>\n",
       "      <td>2769.0</td>\n",
       "      <td>16</td>\n",
       "      <td>8</td>\n",
       "      <td>11</td>\n",
       "      <td>1</td>\n",
       "      <td>0</td>\n",
       "      <td>0</td>\n",
       "      <td>2</td>\n",
       "    </tr>\n",
       "    <tr>\n",
       "      <th>4</th>\n",
       "      <td>5</td>\n",
       "      <td>1821</td>\n",
       "      <td>1</td>\n",
       "      <td>1.2</td>\n",
       "      <td>0</td>\n",
       "      <td>13.0</td>\n",
       "      <td>1</td>\n",
       "      <td>44</td>\n",
       "      <td>NaN</td>\n",
       "      <td>141.0</td>\n",
       "      <td>...</td>\n",
       "      <td>1208</td>\n",
       "      <td>1212</td>\n",
       "      <td>1411.0</td>\n",
       "      <td>8</td>\n",
       "      <td>2</td>\n",
       "      <td>15</td>\n",
       "      <td>1</td>\n",
       "      <td>1</td>\n",
       "      <td>0</td>\n",
       "      <td>1</td>\n",
       "    </tr>\n",
       "  </tbody>\n",
       "</table>\n",
       "<p>5 rows × 22 columns</p>\n",
       "</div>"
      ],
      "text/plain": [
       "   id  battery_power  blue  clock_speed  dual_sim    fc  four_g  int_memory  \\\n",
       "0   1            842     0          2.2         0   1.0       0           7   \n",
       "1   2           1021     1          0.5         1   NaN       1          53   \n",
       "2   3            563     1          0.5         1   2.0       1          41   \n",
       "3   4            615     1          2.5         0   NaN       0          10   \n",
       "4   5           1821     1          1.2         0  13.0       1          44   \n",
       "\n",
       "   m_dep  mobile_wt  ...  px_height  px_width     ram  sc_h  sc_w  talk_time  \\\n",
       "0    0.6      188.0  ...         20       756  2549.0     9     7         19   \n",
       "1    0.7      136.0  ...        905      1988     NaN    17     3          7   \n",
       "2    0.9        NaN  ...       1263      1716  2603.0    11     2          9   \n",
       "3    0.8      131.0  ...       1216      1786  2769.0    16     8         11   \n",
       "4    NaN      141.0  ...       1208      1212  1411.0     8     2         15   \n",
       "\n",
       "   three_g  touch_screen  wifi  price_range  \n",
       "0        0             0     1            1  \n",
       "1        1             1     0            2  \n",
       "2        1             1     0            2  \n",
       "3        1             0     0            2  \n",
       "4        1             1     0            1  \n",
       "\n",
       "[5 rows x 22 columns]"
      ]
     },
     "execution_count": 3,
     "metadata": {},
     "output_type": "execute_result"
    }
   ],
   "source": [
    "df.head()"
   ]
  },
  {
   "cell_type": "code",
   "execution_count": 4,
   "metadata": {},
   "outputs": [
    {
     "data": {
      "text/plain": [
       "id               0\n",
       "battery_power    0\n",
       "blue             0\n",
       "clock_speed      0\n",
       "dual_sim         0\n",
       "fc               7\n",
       "four_g           0\n",
       "int_memory       0\n",
       "m_dep            5\n",
       "mobile_wt        6\n",
       "n_cores          0\n",
       "pc               0\n",
       "px_height        0\n",
       "px_width         0\n",
       "ram              2\n",
       "sc_h             0\n",
       "sc_w             0\n",
       "talk_time        0\n",
       "three_g          0\n",
       "touch_screen     0\n",
       "wifi             0\n",
       "price_range      0\n",
       "dtype: int64"
      ]
     },
     "execution_count": 4,
     "metadata": {},
     "output_type": "execute_result"
    }
   ],
   "source": [
    "df.isnull().sum()"
   ]
  },
  {
   "cell_type": "code",
   "execution_count": 5,
   "metadata": {},
   "outputs": [
    {
     "name": "stdout",
     "output_type": "stream",
     "text": [
      "<class 'pandas.core.frame.DataFrame'>\n",
      "RangeIndex: 2002 entries, 0 to 2001\n",
      "Data columns (total 22 columns):\n",
      " #   Column         Non-Null Count  Dtype  \n",
      "---  ------         --------------  -----  \n",
      " 0   id             2002 non-null   int64  \n",
      " 1   battery_power  2002 non-null   int64  \n",
      " 2   blue           2002 non-null   int64  \n",
      " 3   clock_speed    2002 non-null   float64\n",
      " 4   dual_sim       2002 non-null   int64  \n",
      " 5   fc             1995 non-null   float64\n",
      " 6   four_g         2002 non-null   int64  \n",
      " 7   int_memory     2002 non-null   int64  \n",
      " 8   m_dep          1997 non-null   float64\n",
      " 9   mobile_wt      1996 non-null   float64\n",
      " 10  n_cores        2002 non-null   int64  \n",
      " 11  pc             2002 non-null   int64  \n",
      " 12  px_height      2002 non-null   int64  \n",
      " 13  px_width       2002 non-null   int64  \n",
      " 14  ram            2000 non-null   float64\n",
      " 15  sc_h           2002 non-null   int64  \n",
      " 16  sc_w           2002 non-null   int64  \n",
      " 17  talk_time      2002 non-null   int64  \n",
      " 18  three_g        2002 non-null   int64  \n",
      " 19  touch_screen   2002 non-null   int64  \n",
      " 20  wifi           2002 non-null   int64  \n",
      " 21  price_range    2002 non-null   int64  \n",
      "dtypes: float64(5), int64(17)\n",
      "memory usage: 344.2 KB\n"
     ]
    }
   ],
   "source": [
    "df.info()"
   ]
  },
  {
   "cell_type": "code",
   "execution_count": 7,
   "metadata": {},
   "outputs": [
    {
     "data": {
      "text/plain": [
       "(2002, 22)"
      ]
     },
     "execution_count": 7,
     "metadata": {},
     "output_type": "execute_result"
    }
   ],
   "source": [
    "df.shape"
   ]
  },
  {
   "cell_type": "code",
   "execution_count": 8,
   "metadata": {},
   "outputs": [
    {
     "data": {
      "text/plain": [
       "Index(['id', 'battery_power', 'blue', 'clock_speed', 'dual_sim', 'fc',\n",
       "       'four_g', 'int_memory', 'm_dep', 'mobile_wt', 'n_cores', 'pc',\n",
       "       'px_height', 'px_width', 'ram', 'sc_h', 'sc_w', 'talk_time', 'three_g',\n",
       "       'touch_screen', 'wifi', 'price_range'],\n",
       "      dtype='object')"
      ]
     },
     "execution_count": 8,
     "metadata": {},
     "output_type": "execute_result"
    }
   ],
   "source": [
    "df.columns"
   ]
  },
  {
   "cell_type": "code",
   "execution_count": 9,
   "metadata": {},
   "outputs": [
    {
     "data": {
      "text/plain": [
       "(2002, 21)"
      ]
     },
     "execution_count": 9,
     "metadata": {},
     "output_type": "execute_result"
    }
   ],
   "source": [
    "data = df.drop('id', axis=1)\n",
    "\n",
    "data.shape\n"
   ]
  },
  {
   "cell_type": "code",
   "execution_count": 10,
   "metadata": {},
   "outputs": [
    {
     "data": {
      "text/plain": [
       "Index(['battery_power', 'blue', 'clock_speed', 'dual_sim', 'fc', 'four_g',\n",
       "       'int_memory', 'm_dep', 'mobile_wt', 'n_cores', 'pc', 'px_height',\n",
       "       'px_width', 'ram', 'sc_h', 'sc_w', 'talk_time', 'three_g',\n",
       "       'touch_screen', 'wifi', 'price_range'],\n",
       "      dtype='object')"
      ]
     },
     "execution_count": 10,
     "metadata": {},
     "output_type": "execute_result"
    }
   ],
   "source": [
    "data.columns"
   ]
  },
  {
   "cell_type": "code",
   "execution_count": 11,
   "metadata": {},
   "outputs": [
    {
     "data": {
      "text/html": [
       "<div>\n",
       "<style scoped>\n",
       "    .dataframe tbody tr th:only-of-type {\n",
       "        vertical-align: middle;\n",
       "    }\n",
       "\n",
       "    .dataframe tbody tr th {\n",
       "        vertical-align: top;\n",
       "    }\n",
       "\n",
       "    .dataframe thead th {\n",
       "        text-align: right;\n",
       "    }\n",
       "</style>\n",
       "<table border=\"1\" class=\"dataframe\">\n",
       "  <thead>\n",
       "    <tr style=\"text-align: right;\">\n",
       "      <th></th>\n",
       "      <th>battery_power</th>\n",
       "      <th>blue</th>\n",
       "      <th>clock_speed</th>\n",
       "      <th>dual_sim</th>\n",
       "      <th>fc</th>\n",
       "      <th>four_g</th>\n",
       "      <th>int_memory</th>\n",
       "      <th>m_dep</th>\n",
       "      <th>mobile_wt</th>\n",
       "      <th>n_cores</th>\n",
       "      <th>...</th>\n",
       "      <th>px_height</th>\n",
       "      <th>px_width</th>\n",
       "      <th>ram</th>\n",
       "      <th>sc_h</th>\n",
       "      <th>sc_w</th>\n",
       "      <th>talk_time</th>\n",
       "      <th>three_g</th>\n",
       "      <th>touch_screen</th>\n",
       "      <th>wifi</th>\n",
       "      <th>price_range</th>\n",
       "    </tr>\n",
       "  </thead>\n",
       "  <tbody>\n",
       "    <tr>\n",
       "      <th>count</th>\n",
       "      <td>2002.000000</td>\n",
       "      <td>2002.000000</td>\n",
       "      <td>2002.000000</td>\n",
       "      <td>2002.000000</td>\n",
       "      <td>1995.000000</td>\n",
       "      <td>2002.000000</td>\n",
       "      <td>2002.000000</td>\n",
       "      <td>1997.000000</td>\n",
       "      <td>1996.000000</td>\n",
       "      <td>2002.000000</td>\n",
       "      <td>...</td>\n",
       "      <td>2002.000000</td>\n",
       "      <td>2002.000000</td>\n",
       "      <td>2000.000000</td>\n",
       "      <td>2002.000000</td>\n",
       "      <td>2002.000000</td>\n",
       "      <td>2002.000000</td>\n",
       "      <td>2002.000000</td>\n",
       "      <td>2002.000000</td>\n",
       "      <td>2002.000000</td>\n",
       "      <td>2002.000000</td>\n",
       "    </tr>\n",
       "    <tr>\n",
       "      <th>mean</th>\n",
       "      <td>1238.485514</td>\n",
       "      <td>0.494505</td>\n",
       "      <td>1.522428</td>\n",
       "      <td>0.509491</td>\n",
       "      <td>4.319799</td>\n",
       "      <td>0.521479</td>\n",
       "      <td>32.037463</td>\n",
       "      <td>0.502053</td>\n",
       "      <td>141.289579</td>\n",
       "      <td>4.520979</td>\n",
       "      <td>...</td>\n",
       "      <td>644.652847</td>\n",
       "      <td>1251.457043</td>\n",
       "      <td>2128.750000</td>\n",
       "      <td>12.306194</td>\n",
       "      <td>5.767732</td>\n",
       "      <td>11.008492</td>\n",
       "      <td>0.761738</td>\n",
       "      <td>0.502498</td>\n",
       "      <td>0.506494</td>\n",
       "      <td>1.499500</td>\n",
       "    </tr>\n",
       "    <tr>\n",
       "      <th>std</th>\n",
       "      <td>439.389628</td>\n",
       "      <td>0.500095</td>\n",
       "      <td>0.815769</td>\n",
       "      <td>0.500035</td>\n",
       "      <td>4.341836</td>\n",
       "      <td>0.499663</td>\n",
       "      <td>18.144296</td>\n",
       "      <td>0.288578</td>\n",
       "      <td>45.313271</td>\n",
       "      <td>2.287617</td>\n",
       "      <td>...</td>\n",
       "      <td>443.792863</td>\n",
       "      <td>431.988140</td>\n",
       "      <td>1096.826623</td>\n",
       "      <td>4.212218</td>\n",
       "      <td>4.354540</td>\n",
       "      <td>5.462372</td>\n",
       "      <td>0.426126</td>\n",
       "      <td>0.500119</td>\n",
       "      <td>0.500083</td>\n",
       "      <td>1.117866</td>\n",
       "    </tr>\n",
       "    <tr>\n",
       "      <th>min</th>\n",
       "      <td>501.000000</td>\n",
       "      <td>0.000000</td>\n",
       "      <td>0.500000</td>\n",
       "      <td>0.000000</td>\n",
       "      <td>0.000000</td>\n",
       "      <td>0.000000</td>\n",
       "      <td>2.000000</td>\n",
       "      <td>0.100000</td>\n",
       "      <td>80.000000</td>\n",
       "      <td>1.000000</td>\n",
       "      <td>...</td>\n",
       "      <td>0.000000</td>\n",
       "      <td>500.000000</td>\n",
       "      <td>256.000000</td>\n",
       "      <td>5.000000</td>\n",
       "      <td>0.000000</td>\n",
       "      <td>2.000000</td>\n",
       "      <td>0.000000</td>\n",
       "      <td>0.000000</td>\n",
       "      <td>0.000000</td>\n",
       "      <td>0.000000</td>\n",
       "    </tr>\n",
       "    <tr>\n",
       "      <th>25%</th>\n",
       "      <td>851.250000</td>\n",
       "      <td>0.000000</td>\n",
       "      <td>0.700000</td>\n",
       "      <td>0.000000</td>\n",
       "      <td>1.000000</td>\n",
       "      <td>0.000000</td>\n",
       "      <td>16.000000</td>\n",
       "      <td>0.200000</td>\n",
       "      <td>109.000000</td>\n",
       "      <td>3.000000</td>\n",
       "      <td>...</td>\n",
       "      <td>282.000000</td>\n",
       "      <td>875.250000</td>\n",
       "      <td>1207.500000</td>\n",
       "      <td>9.000000</td>\n",
       "      <td>2.000000</td>\n",
       "      <td>6.000000</td>\n",
       "      <td>1.000000</td>\n",
       "      <td>0.000000</td>\n",
       "      <td>0.000000</td>\n",
       "      <td>1.000000</td>\n",
       "    </tr>\n",
       "    <tr>\n",
       "      <th>50%</th>\n",
       "      <td>1226.000000</td>\n",
       "      <td>0.000000</td>\n",
       "      <td>1.500000</td>\n",
       "      <td>1.000000</td>\n",
       "      <td>3.000000</td>\n",
       "      <td>1.000000</td>\n",
       "      <td>32.000000</td>\n",
       "      <td>0.500000</td>\n",
       "      <td>141.000000</td>\n",
       "      <td>4.000000</td>\n",
       "      <td>...</td>\n",
       "      <td>564.000000</td>\n",
       "      <td>1247.000000</td>\n",
       "      <td>2145.000000</td>\n",
       "      <td>12.000000</td>\n",
       "      <td>5.000000</td>\n",
       "      <td>11.000000</td>\n",
       "      <td>1.000000</td>\n",
       "      <td>1.000000</td>\n",
       "      <td>1.000000</td>\n",
       "      <td>1.000000</td>\n",
       "    </tr>\n",
       "    <tr>\n",
       "      <th>75%</th>\n",
       "      <td>1615.000000</td>\n",
       "      <td>1.000000</td>\n",
       "      <td>2.200000</td>\n",
       "      <td>1.000000</td>\n",
       "      <td>7.000000</td>\n",
       "      <td>1.000000</td>\n",
       "      <td>48.000000</td>\n",
       "      <td>0.800000</td>\n",
       "      <td>170.000000</td>\n",
       "      <td>7.000000</td>\n",
       "      <td>...</td>\n",
       "      <td>946.750000</td>\n",
       "      <td>1632.750000</td>\n",
       "      <td>3069.000000</td>\n",
       "      <td>16.000000</td>\n",
       "      <td>9.000000</td>\n",
       "      <td>16.000000</td>\n",
       "      <td>1.000000</td>\n",
       "      <td>1.000000</td>\n",
       "      <td>1.000000</td>\n",
       "      <td>2.000000</td>\n",
       "    </tr>\n",
       "    <tr>\n",
       "      <th>max</th>\n",
       "      <td>1998.000000</td>\n",
       "      <td>1.000000</td>\n",
       "      <td>3.000000</td>\n",
       "      <td>1.000000</td>\n",
       "      <td>19.000000</td>\n",
       "      <td>1.000000</td>\n",
       "      <td>64.000000</td>\n",
       "      <td>1.000000</td>\n",
       "      <td>960.000000</td>\n",
       "      <td>8.000000</td>\n",
       "      <td>...</td>\n",
       "      <td>1960.000000</td>\n",
       "      <td>1998.000000</td>\n",
       "      <td>7286.000000</td>\n",
       "      <td>19.000000</td>\n",
       "      <td>18.000000</td>\n",
       "      <td>20.000000</td>\n",
       "      <td>1.000000</td>\n",
       "      <td>1.000000</td>\n",
       "      <td>1.000000</td>\n",
       "      <td>3.000000</td>\n",
       "    </tr>\n",
       "  </tbody>\n",
       "</table>\n",
       "<p>8 rows × 21 columns</p>\n",
       "</div>"
      ],
      "text/plain": [
       "       battery_power         blue  clock_speed     dual_sim           fc  \\\n",
       "count    2002.000000  2002.000000  2002.000000  2002.000000  1995.000000   \n",
       "mean     1238.485514     0.494505     1.522428     0.509491     4.319799   \n",
       "std       439.389628     0.500095     0.815769     0.500035     4.341836   \n",
       "min       501.000000     0.000000     0.500000     0.000000     0.000000   \n",
       "25%       851.250000     0.000000     0.700000     0.000000     1.000000   \n",
       "50%      1226.000000     0.000000     1.500000     1.000000     3.000000   \n",
       "75%      1615.000000     1.000000     2.200000     1.000000     7.000000   \n",
       "max      1998.000000     1.000000     3.000000     1.000000    19.000000   \n",
       "\n",
       "            four_g   int_memory        m_dep    mobile_wt      n_cores  ...  \\\n",
       "count  2002.000000  2002.000000  1997.000000  1996.000000  2002.000000  ...   \n",
       "mean      0.521479    32.037463     0.502053   141.289579     4.520979  ...   \n",
       "std       0.499663    18.144296     0.288578    45.313271     2.287617  ...   \n",
       "min       0.000000     2.000000     0.100000    80.000000     1.000000  ...   \n",
       "25%       0.000000    16.000000     0.200000   109.000000     3.000000  ...   \n",
       "50%       1.000000    32.000000     0.500000   141.000000     4.000000  ...   \n",
       "75%       1.000000    48.000000     0.800000   170.000000     7.000000  ...   \n",
       "max       1.000000    64.000000     1.000000   960.000000     8.000000  ...   \n",
       "\n",
       "         px_height     px_width          ram         sc_h         sc_w  \\\n",
       "count  2002.000000  2002.000000  2000.000000  2002.000000  2002.000000   \n",
       "mean    644.652847  1251.457043  2128.750000    12.306194     5.767732   \n",
       "std     443.792863   431.988140  1096.826623     4.212218     4.354540   \n",
       "min       0.000000   500.000000   256.000000     5.000000     0.000000   \n",
       "25%     282.000000   875.250000  1207.500000     9.000000     2.000000   \n",
       "50%     564.000000  1247.000000  2145.000000    12.000000     5.000000   \n",
       "75%     946.750000  1632.750000  3069.000000    16.000000     9.000000   \n",
       "max    1960.000000  1998.000000  7286.000000    19.000000    18.000000   \n",
       "\n",
       "         talk_time      three_g  touch_screen         wifi  price_range  \n",
       "count  2002.000000  2002.000000   2002.000000  2002.000000  2002.000000  \n",
       "mean     11.008492     0.761738      0.502498     0.506494     1.499500  \n",
       "std       5.462372     0.426126      0.500119     0.500083     1.117866  \n",
       "min       2.000000     0.000000      0.000000     0.000000     0.000000  \n",
       "25%       6.000000     1.000000      0.000000     0.000000     1.000000  \n",
       "50%      11.000000     1.000000      1.000000     1.000000     1.000000  \n",
       "75%      16.000000     1.000000      1.000000     1.000000     2.000000  \n",
       "max      20.000000     1.000000      1.000000     1.000000     3.000000  \n",
       "\n",
       "[8 rows x 21 columns]"
      ]
     },
     "execution_count": 11,
     "metadata": {},
     "output_type": "execute_result"
    }
   ],
   "source": [
    "data.describe()"
   ]
  },
  {
   "cell_type": "code",
   "execution_count": 12,
   "metadata": {},
   "outputs": [],
   "source": [
    "data = data.rename(columns = {'blue' : 'bluetooth',\n",
    "                             'fc':'fc_megapixel',\n",
    "                             'pc': 'pc_megapixel',\n",
    "                             'm_dep':'m_depth'})"
   ]
  },
  {
   "cell_type": "code",
   "execution_count": 13,
   "metadata": {},
   "outputs": [
    {
     "data": {
      "text/plain": [
       "(2000, 21)"
      ]
     },
     "execution_count": 13,
     "metadata": {},
     "output_type": "execute_result"
    }
   ],
   "source": [
    "data = data.drop_duplicates()\n",
    "data.shape"
   ]
  },
  {
   "cell_type": "code",
   "execution_count": 14,
   "metadata": {},
   "outputs": [
    {
     "data": {
      "text/plain": [
       "battery_power    0\n",
       "bluetooth        0\n",
       "clock_speed      0\n",
       "dual_sim         0\n",
       "fc_megapixel     7\n",
       "four_g           0\n",
       "int_memory       0\n",
       "m_depth          5\n",
       "mobile_wt        6\n",
       "n_cores          0\n",
       "pc_megapixel     0\n",
       "px_height        0\n",
       "px_width         0\n",
       "ram              2\n",
       "sc_h             0\n",
       "sc_w             0\n",
       "talk_time        0\n",
       "three_g          0\n",
       "touch_screen     0\n",
       "wifi             0\n",
       "price_range      0\n",
       "dtype: int64"
      ]
     },
     "execution_count": 14,
     "metadata": {},
     "output_type": "execute_result"
    }
   ],
   "source": [
    "data.isnull().sum()"
   ]
  },
  {
   "cell_type": "code",
   "execution_count": 15,
   "metadata": {},
   "outputs": [
    {
     "data": {
      "text/plain": [
       "battery_power    0\n",
       "bluetooth        0\n",
       "clock_speed      0\n",
       "dual_sim         0\n",
       "fc_megapixel     0\n",
       "four_g           0\n",
       "int_memory       0\n",
       "m_depth          5\n",
       "mobile_wt        0\n",
       "n_cores          0\n",
       "pc_megapixel     0\n",
       "px_height        0\n",
       "px_width         0\n",
       "ram              0\n",
       "sc_h             0\n",
       "sc_w             0\n",
       "talk_time        0\n",
       "three_g          0\n",
       "touch_screen     0\n",
       "wifi             0\n",
       "price_range      0\n",
       "dtype: int64"
      ]
     },
     "execution_count": 15,
     "metadata": {},
     "output_type": "execute_result"
    }
   ],
   "source": [
    "data['fc_megapixel'] = data['fc_megapixel'].fillna(0)\n",
    "data['ram'] = data['ram'].fillna(method='backfill')\n",
    "data['mobile_wt'] = data['mobile_wt'].fillna(data['mobile_wt'].median())\n",
    "data.isnull().sum()"
   ]
  },
  {
   "cell_type": "code",
   "execution_count": 16,
   "metadata": {},
   "outputs": [
    {
     "data": {
      "text/plain": [
       "battery_power    0\n",
       "bluetooth        0\n",
       "clock_speed      0\n",
       "dual_sim         0\n",
       "fc_megapixel     0\n",
       "four_g           0\n",
       "int_memory       0\n",
       "m_depth          0\n",
       "mobile_wt        0\n",
       "n_cores          0\n",
       "pc_megapixel     0\n",
       "px_height        0\n",
       "px_width         0\n",
       "ram              0\n",
       "sc_h             0\n",
       "sc_w             0\n",
       "talk_time        0\n",
       "three_g          0\n",
       "touch_screen     0\n",
       "wifi             0\n",
       "price_range      0\n",
       "dtype: int64"
      ]
     },
     "execution_count": 16,
     "metadata": {},
     "output_type": "execute_result"
    }
   ],
   "source": [
    "data = data.dropna()\n",
    "data.isnull().sum()"
   ]
  },
  {
   "cell_type": "code",
   "execution_count": 17,
   "metadata": {},
   "outputs": [
    {
     "data": {
      "text/plain": [
       "(1995, 21)"
      ]
     },
     "execution_count": 17,
     "metadata": {},
     "output_type": "execute_result"
    }
   ],
   "source": [
    "data.shape"
   ]
  },
  {
   "cell_type": "code",
   "execution_count": 18,
   "metadata": {},
   "outputs": [
    {
     "data": {
      "text/plain": [
       "Index(['battery_power', 'bluetooth', 'clock_speed', 'dual_sim', 'fc_megapixel',\n",
       "       'four_g', 'int_memory', 'm_depth', 'mobile_wt', 'n_cores',\n",
       "       'pc_megapixel', 'px_height', 'px_width', 'ram', 'sc_h', 'sc_w',\n",
       "       'talk_time', 'three_g', 'touch_screen', 'wifi', 'price_range'],\n",
       "      dtype='object')"
      ]
     },
     "execution_count": 18,
     "metadata": {},
     "output_type": "execute_result"
    }
   ],
   "source": [
    "data.columns"
   ]
  },
  {
   "cell_type": "code",
   "execution_count": 19,
   "metadata": {},
   "outputs": [],
   "source": [
    "data.to_csv('mobile_data_cleaned.csv',index= False)"
   ]
  },
  {
   "cell_type": "code",
   "execution_count": 20,
   "metadata": {},
   "outputs": [
    {
     "data": {
      "text/html": [
       "<div>\n",
       "<style scoped>\n",
       "    .dataframe tbody tr th:only-of-type {\n",
       "        vertical-align: middle;\n",
       "    }\n",
       "\n",
       "    .dataframe tbody tr th {\n",
       "        vertical-align: top;\n",
       "    }\n",
       "\n",
       "    .dataframe thead th {\n",
       "        text-align: right;\n",
       "    }\n",
       "</style>\n",
       "<table border=\"1\" class=\"dataframe\">\n",
       "  <thead>\n",
       "    <tr style=\"text-align: right;\">\n",
       "      <th></th>\n",
       "      <th>battery_power</th>\n",
       "      <th>clock_speed</th>\n",
       "      <th>fc_megapixel</th>\n",
       "      <th>int_memory</th>\n",
       "      <th>m_depth</th>\n",
       "      <th>mobile_wt</th>\n",
       "      <th>n_cores</th>\n",
       "      <th>pc_megapixel</th>\n",
       "      <th>px_height</th>\n",
       "      <th>px_width</th>\n",
       "      <th>ram</th>\n",
       "      <th>sc_h</th>\n",
       "      <th>sc_w</th>\n",
       "      <th>talk_time</th>\n",
       "    </tr>\n",
       "  </thead>\n",
       "  <tbody>\n",
       "    <tr>\n",
       "      <th>0</th>\n",
       "      <td>842</td>\n",
       "      <td>2.2</td>\n",
       "      <td>1.0</td>\n",
       "      <td>7</td>\n",
       "      <td>0.6</td>\n",
       "      <td>188.0</td>\n",
       "      <td>2</td>\n",
       "      <td>2</td>\n",
       "      <td>20</td>\n",
       "      <td>756</td>\n",
       "      <td>2549.0</td>\n",
       "      <td>9</td>\n",
       "      <td>7</td>\n",
       "      <td>19</td>\n",
       "    </tr>\n",
       "    <tr>\n",
       "      <th>1</th>\n",
       "      <td>1021</td>\n",
       "      <td>0.5</td>\n",
       "      <td>0.0</td>\n",
       "      <td>53</td>\n",
       "      <td>0.7</td>\n",
       "      <td>136.0</td>\n",
       "      <td>3</td>\n",
       "      <td>6</td>\n",
       "      <td>905</td>\n",
       "      <td>1988</td>\n",
       "      <td>2603.0</td>\n",
       "      <td>17</td>\n",
       "      <td>3</td>\n",
       "      <td>7</td>\n",
       "    </tr>\n",
       "    <tr>\n",
       "      <th>2</th>\n",
       "      <td>563</td>\n",
       "      <td>0.5</td>\n",
       "      <td>2.0</td>\n",
       "      <td>41</td>\n",
       "      <td>0.9</td>\n",
       "      <td>141.0</td>\n",
       "      <td>5</td>\n",
       "      <td>6</td>\n",
       "      <td>1263</td>\n",
       "      <td>1716</td>\n",
       "      <td>2603.0</td>\n",
       "      <td>11</td>\n",
       "      <td>2</td>\n",
       "      <td>9</td>\n",
       "    </tr>\n",
       "    <tr>\n",
       "      <th>3</th>\n",
       "      <td>615</td>\n",
       "      <td>2.5</td>\n",
       "      <td>0.0</td>\n",
       "      <td>10</td>\n",
       "      <td>0.8</td>\n",
       "      <td>131.0</td>\n",
       "      <td>6</td>\n",
       "      <td>9</td>\n",
       "      <td>1216</td>\n",
       "      <td>1786</td>\n",
       "      <td>2769.0</td>\n",
       "      <td>16</td>\n",
       "      <td>8</td>\n",
       "      <td>11</td>\n",
       "    </tr>\n",
       "    <tr>\n",
       "      <th>5</th>\n",
       "      <td>1859</td>\n",
       "      <td>0.5</td>\n",
       "      <td>3.0</td>\n",
       "      <td>22</td>\n",
       "      <td>0.7</td>\n",
       "      <td>164.0</td>\n",
       "      <td>1</td>\n",
       "      <td>7</td>\n",
       "      <td>1004</td>\n",
       "      <td>1654</td>\n",
       "      <td>1067.0</td>\n",
       "      <td>17</td>\n",
       "      <td>1</td>\n",
       "      <td>10</td>\n",
       "    </tr>\n",
       "  </tbody>\n",
       "</table>\n",
       "</div>"
      ],
      "text/plain": [
       "   battery_power  clock_speed  fc_megapixel  int_memory  m_depth  mobile_wt  \\\n",
       "0            842          2.2           1.0           7      0.6      188.0   \n",
       "1           1021          0.5           0.0          53      0.7      136.0   \n",
       "2            563          0.5           2.0          41      0.9      141.0   \n",
       "3            615          2.5           0.0          10      0.8      131.0   \n",
       "5           1859          0.5           3.0          22      0.7      164.0   \n",
       "\n",
       "   n_cores  pc_megapixel  px_height  px_width     ram  sc_h  sc_w  talk_time  \n",
       "0        2             2         20       756  2549.0     9     7         19  \n",
       "1        3             6        905      1988  2603.0    17     3          7  \n",
       "2        5             6       1263      1716  2603.0    11     2          9  \n",
       "3        6             9       1216      1786  2769.0    16     8         11  \n",
       "5        1             7       1004      1654  1067.0    17     1         10  "
      ]
     },
     "execution_count": 20,
     "metadata": {},
     "output_type": "execute_result"
    }
   ],
   "source": [
    "numeric_data = data.drop(['bluetooth','dual_sim','four_g','three_g','touch_screen','wifi','price_range'], axis=1)\n",
    "numeric_data.head()"
   ]
  },
  {
   "cell_type": "code",
   "execution_count": 21,
   "metadata": {},
   "outputs": [
    {
     "data": {
      "text/html": [
       "<div>\n",
       "<style scoped>\n",
       "    .dataframe tbody tr th:only-of-type {\n",
       "        vertical-align: middle;\n",
       "    }\n",
       "\n",
       "    .dataframe tbody tr th {\n",
       "        vertical-align: top;\n",
       "    }\n",
       "\n",
       "    .dataframe thead th {\n",
       "        text-align: right;\n",
       "    }\n",
       "</style>\n",
       "<table border=\"1\" class=\"dataframe\">\n",
       "  <thead>\n",
       "    <tr style=\"text-align: right;\">\n",
       "      <th></th>\n",
       "      <th>bluetooth</th>\n",
       "      <th>dual_sim</th>\n",
       "      <th>four_g</th>\n",
       "      <th>three_g</th>\n",
       "      <th>touch_screen</th>\n",
       "      <th>wifi</th>\n",
       "      <th>price_range</th>\n",
       "    </tr>\n",
       "  </thead>\n",
       "  <tbody>\n",
       "    <tr>\n",
       "      <th>0</th>\n",
       "      <td>0</td>\n",
       "      <td>0</td>\n",
       "      <td>0</td>\n",
       "      <td>0</td>\n",
       "      <td>0</td>\n",
       "      <td>1</td>\n",
       "      <td>1</td>\n",
       "    </tr>\n",
       "    <tr>\n",
       "      <th>1</th>\n",
       "      <td>1</td>\n",
       "      <td>1</td>\n",
       "      <td>1</td>\n",
       "      <td>1</td>\n",
       "      <td>1</td>\n",
       "      <td>0</td>\n",
       "      <td>2</td>\n",
       "    </tr>\n",
       "    <tr>\n",
       "      <th>2</th>\n",
       "      <td>1</td>\n",
       "      <td>1</td>\n",
       "      <td>1</td>\n",
       "      <td>1</td>\n",
       "      <td>1</td>\n",
       "      <td>0</td>\n",
       "      <td>2</td>\n",
       "    </tr>\n",
       "    <tr>\n",
       "      <th>3</th>\n",
       "      <td>1</td>\n",
       "      <td>0</td>\n",
       "      <td>0</td>\n",
       "      <td>1</td>\n",
       "      <td>0</td>\n",
       "      <td>0</td>\n",
       "      <td>2</td>\n",
       "    </tr>\n",
       "    <tr>\n",
       "      <th>5</th>\n",
       "      <td>0</td>\n",
       "      <td>1</td>\n",
       "      <td>0</td>\n",
       "      <td>1</td>\n",
       "      <td>0</td>\n",
       "      <td>0</td>\n",
       "      <td>1</td>\n",
       "    </tr>\n",
       "  </tbody>\n",
       "</table>\n",
       "</div>"
      ],
      "text/plain": [
       "   bluetooth  dual_sim  four_g  three_g  touch_screen  wifi  price_range\n",
       "0          0         0       0        0             0     1            1\n",
       "1          1         1       1        1             1     0            2\n",
       "2          1         1       1        1             1     0            2\n",
       "3          1         0       0        1             0     0            2\n",
       "5          0         1       0        1             0     0            1"
      ]
     },
     "execution_count": 21,
     "metadata": {},
     "output_type": "execute_result"
    }
   ],
   "source": [
    "categorical_data = data[['bluetooth','dual_sim','four_g','three_g','touch_screen','wifi','price_range']]\n",
    "categorical_data.head()"
   ]
  },
  {
   "cell_type": "code",
   "execution_count": 23,
   "metadata": {},
   "outputs": [
    {
     "data": {
      "text/plain": [
       "<matplotlib.axes._subplots.AxesSubplot at 0x2076abb6160>"
      ]
     },
     "execution_count": 23,
     "metadata": {},
     "output_type": "execute_result"
    },
    {
     "data": {
      "image/png": "[encoded data removed]",
      "text/plain": [
       "<Figure size 720x576 with 1 Axes>"
      ]
     },
     "metadata": {
      "needs_background": "light"
     },
     "output_type": "display_data"
    }
   ],
   "source": [
    "from matplotlib import pyplot as plt\n",
    "import seaborn as sns\n",
    "\n",
    "fig, ax = plt.subplots(figsize = (10, 8))\n",
    "\n",
    "sns.boxplot(numeric_data['ram'],orient = 'v')\n"
   ]
  },
  {
   "cell_type": "code",
   "execution_count": 24,
   "metadata": {},
   "outputs": [
    {
     "data": {
      "text/plain": [
       "<matplotlib.axes._subplots.AxesSubplot at 0x2076ce06ee0>"
      ]
     },
     "execution_count": 24,
     "metadata": {},
     "output_type": "execute_result"
    },
    {
     "data": {
      "image/png": "[encoded data removed]",
      "text/plain": [
       "<Figure size 720x576 with 1 Axes>"
      ]
     },
     "metadata": {
      "needs_background": "light"
     },
     "output_type": "display_data"
    }
   ],
   "source": [
    "fig, ax = plt.subplots(figsize = (10, 8))\n",
    "\n",
    "sns.boxplot(numeric_data['mobile_wt'],\n",
    "           orient = 'v')"
   ]
  },
  {
   "cell_type": "code",
   "execution_count": 25,
   "metadata": {},
   "outputs": [
    {
     "data": {
      "text/plain": [
       "[Text(0, 0, 'battery_power'),\n",
       " Text(0, 0, 'clock_speed'),\n",
       " Text(0, 0, 'fc_megapixel'),\n",
       " Text(0, 0, 'int_memory'),\n",
       " Text(0, 0, 'm_depth'),\n",
       " Text(0, 0, 'mobile_wt'),\n",
       " Text(0, 0, 'n_cores'),\n",
       " Text(0, 0, 'pc_megapixel'),\n",
       " Text(0, 0, 'px_height'),\n",
       " Text(0, 0, 'px_width'),\n",
       " Text(0, 0, 'ram'),\n",
       " Text(0, 0, 'sc_h'),\n",
       " Text(0, 0, 'sc_w'),\n",
       " Text(0, 0, 'talk_time')]"
      ]
     },
     "execution_count": 25,
     "metadata": {},
     "output_type": "execute_result"
    },
    {
     "data": {
      "image/png": "[encoded data removed]",
      "text/plain": [
       "<Figure size 720x576 with 1 Axes>"
      ]
     },
     "metadata": {
      "needs_background": "light"
     },
     "output_type": "display_data"
    }
   ],
   "source": [
    "fig, ax = plt.subplots(figsize = (10, 8))\n",
    "\n",
    "bp = sns.boxplot(data = numeric_data)\n",
    "bp.set_xticklabels(bp.get_xticklabels(), rotation=90)"
   ]
  },
  {
   "cell_type": "code",
   "execution_count": 26,
   "metadata": {},
   "outputs": [
    {
     "data": {
      "text/html": [
       "<div>\n",
       "<style scoped>\n",
       "    .dataframe tbody tr th:only-of-type {\n",
       "        vertical-align: middle;\n",
       "    }\n",
       "\n",
       "    .dataframe tbody tr th {\n",
       "        vertical-align: top;\n",
       "    }\n",
       "\n",
       "    .dataframe thead th {\n",
       "        text-align: right;\n",
       "    }\n",
       "</style>\n",
       "<table border=\"1\" class=\"dataframe\">\n",
       "  <thead>\n",
       "    <tr style=\"text-align: right;\">\n",
       "      <th></th>\n",
       "      <th>battery_power</th>\n",
       "      <th>clock_speed</th>\n",
       "      <th>fc_megapixel</th>\n",
       "      <th>int_memory</th>\n",
       "      <th>m_depth</th>\n",
       "      <th>mobile_wt</th>\n",
       "      <th>n_cores</th>\n",
       "      <th>pc_megapixel</th>\n",
       "      <th>px_height</th>\n",
       "      <th>px_width</th>\n",
       "      <th>ram</th>\n",
       "      <th>sc_h</th>\n",
       "      <th>sc_w</th>\n",
       "      <th>talk_time</th>\n",
       "    </tr>\n",
       "  </thead>\n",
       "  <tbody>\n",
       "    <tr>\n",
       "      <th>0</th>\n",
       "      <td>-0.902710</td>\n",
       "      <td>0.828590</td>\n",
       "      <td>-0.760901</td>\n",
       "      <td>-1.379076</td>\n",
       "      <td>0.339647</td>\n",
       "      <td>1.032457</td>\n",
       "      <td>-1.100614</td>\n",
       "      <td>-1.305274</td>\n",
       "      <td>-1.410473</td>\n",
       "      <td>-1.145740</td>\n",
       "      <td>0.383289</td>\n",
       "      <td>-0.787860</td>\n",
       "      <td>0.281262</td>\n",
       "      <td>1.461538</td>\n",
       "    </tr>\n",
       "    <tr>\n",
       "      <th>1</th>\n",
       "      <td>-0.495016</td>\n",
       "      <td>-1.254710</td>\n",
       "      <td>-0.991355</td>\n",
       "      <td>1.155222</td>\n",
       "      <td>0.686421</td>\n",
       "      <td>-0.115603</td>\n",
       "      <td>-0.663393</td>\n",
       "      <td>-0.645778</td>\n",
       "      <td>0.588764</td>\n",
       "      <td>1.703940</td>\n",
       "      <td>0.432536</td>\n",
       "      <td>1.112147</td>\n",
       "      <td>-0.636722</td>\n",
       "      <td>-0.734484</td>\n",
       "    </tr>\n",
       "    <tr>\n",
       "      <th>2</th>\n",
       "      <td>-1.538165</td>\n",
       "      <td>-1.254710</td>\n",
       "      <td>-0.530448</td>\n",
       "      <td>0.494101</td>\n",
       "      <td>1.379968</td>\n",
       "      <td>-0.005212</td>\n",
       "      <td>0.211050</td>\n",
       "      <td>-0.645778</td>\n",
       "      <td>1.397495</td>\n",
       "      <td>1.074790</td>\n",
       "      <td>0.432536</td>\n",
       "      <td>-0.312858</td>\n",
       "      <td>-0.866218</td>\n",
       "      <td>-0.368480</td>\n",
       "    </tr>\n",
       "    <tr>\n",
       "      <th>3</th>\n",
       "      <td>-1.419729</td>\n",
       "      <td>1.196232</td>\n",
       "      <td>-0.991355</td>\n",
       "      <td>-1.213795</td>\n",
       "      <td>1.033195</td>\n",
       "      <td>-0.225993</td>\n",
       "      <td>0.648271</td>\n",
       "      <td>-0.151155</td>\n",
       "      <td>1.291321</td>\n",
       "      <td>1.236704</td>\n",
       "      <td>0.583926</td>\n",
       "      <td>0.874646</td>\n",
       "      <td>0.510758</td>\n",
       "      <td>-0.002477</td>\n",
       "    </tr>\n",
       "    <tr>\n",
       "      <th>4</th>\n",
       "      <td>1.413628</td>\n",
       "      <td>-1.254710</td>\n",
       "      <td>-0.299994</td>\n",
       "      <td>-0.552674</td>\n",
       "      <td>0.686421</td>\n",
       "      <td>0.502583</td>\n",
       "      <td>-1.537835</td>\n",
       "      <td>-0.480903</td>\n",
       "      <td>0.812408</td>\n",
       "      <td>0.931381</td>\n",
       "      <td>-0.968275</td>\n",
       "      <td>1.112147</td>\n",
       "      <td>-1.095714</td>\n",
       "      <td>-0.185479</td>\n",
       "    </tr>\n",
       "  </tbody>\n",
       "</table>\n",
       "</div>"
      ],
      "text/plain": [
       "   battery_power  clock_speed  fc_megapixel  int_memory   m_depth  mobile_wt  \\\n",
       "0      -0.902710     0.828590     -0.760901   -1.379076  0.339647   1.032457   \n",
       "1      -0.495016    -1.254710     -0.991355    1.155222  0.686421  -0.115603   \n",
       "2      -1.538165    -1.254710     -0.530448    0.494101  1.379968  -0.005212   \n",
       "3      -1.419729     1.196232     -0.991355   -1.213795  1.033195  -0.225993   \n",
       "4       1.413628    -1.254710     -0.299994   -0.552674  0.686421   0.502583   \n",
       "\n",
       "    n_cores  pc_megapixel  px_height  px_width       ram      sc_h      sc_w  \\\n",
       "0 -1.100614     -1.305274  -1.410473 -1.145740  0.383289 -0.787860  0.281262   \n",
       "1 -0.663393     -0.645778   0.588764  1.703940  0.432536  1.112147 -0.636722   \n",
       "2  0.211050     -0.645778   1.397495  1.074790  0.432536 -0.312858 -0.866218   \n",
       "3  0.648271     -0.151155   1.291321  1.236704  0.583926  0.874646  0.510758   \n",
       "4 -1.537835     -0.480903   0.812408  0.931381 -0.968275  1.112147 -1.095714   \n",
       "\n",
       "   talk_time  \n",
       "0   1.461538  \n",
       "1  -0.734484  \n",
       "2  -0.368480  \n",
       "3  -0.002477  \n",
       "4  -0.185479  "
      ]
     },
     "execution_count": 26,
     "metadata": {},
     "output_type": "execute_result"
    }
   ],
   "source": [
    "from sklearn.preprocessing import StandardScaler\n",
    "\n",
    "scaler = StandardScaler()\n",
    "scaled_array = scaler.fit_transform(numeric_data)\n",
    "\n",
    "scaled_data = pd.DataFrame(scaled_array, columns = numeric_data.columns)\n",
    "scaled_data.head()"
   ]
  },
  {
   "cell_type": "code",
   "execution_count": 27,
   "metadata": {},
   "outputs": [
    {
     "data": {
      "text/plain": [
       "[Text(0, 0, 'battery_power'),\n",
       " Text(0, 0, 'clock_speed'),\n",
       " Text(0, 0, 'fc_megapixel'),\n",
       " Text(0, 0, 'int_memory'),\n",
       " Text(0, 0, 'm_depth'),\n",
       " Text(0, 0, 'mobile_wt'),\n",
       " Text(0, 0, 'n_cores'),\n",
       " Text(0, 0, 'pc_megapixel'),\n",
       " Text(0, 0, 'px_height'),\n",
       " Text(0, 0, 'px_width'),\n",
       " Text(0, 0, 'ram'),\n",
       " Text(0, 0, 'sc_h'),\n",
       " Text(0, 0, 'sc_w'),\n",
       " Text(0, 0, 'talk_time')]"
      ]
     },
     "execution_count": 27,
     "metadata": {},
     "output_type": "execute_result"
    },
    {
     "data": {
      "image/png": "[encoded data removed]",
      "text/plain": [
       "<Figure size 720x576 with 1 Axes>"
      ]
     },
     "metadata": {
      "needs_background": "light"
     },
     "output_type": "display_data"
    }
   ],
   "source": [
    "fig, ax = plt.subplots(figsize = (10,8))\n",
    "bp = sns.boxplot(data = scaled_data)\n",
    "bp.set_xticklabels(bp.get_xticklabels(), rotation=90)"
   ]
  },
  {
   "cell_type": "code",
   "execution_count": 28,
   "metadata": {},
   "outputs": [
    {
     "name": "stdout",
     "output_type": "stream",
     "text": [
      "battery_power     762.5\n",
      "clock_speed         1.5\n",
      "fc_megapixel        6.0\n",
      "int_memory         32.0\n",
      "m_depth             0.6\n",
      "mobile_wt          61.0\n",
      "n_cores             4.0\n",
      "pc_megapixel       10.0\n",
      "px_height         663.0\n",
      "px_width          759.0\n",
      "ram              1860.0\n",
      "sc_h                7.0\n",
      "sc_w                7.0\n",
      "talk_time          10.0\n",
      "dtype: float64\n"
     ]
    }
   ],
   "source": [
    "Q1 = numeric_data.quantile(0.25)\n",
    "Q3 = numeric_data.quantile(0.75)\n",
    "\n",
    "IQR = Q3 - Q1\n",
    "print(IQR)"
   ]
  },
  {
   "cell_type": "code",
   "execution_count": 29,
   "metadata": {},
   "outputs": [
    {
     "data": {
      "text/plain": [
       "(1971, 14)"
      ]
     },
     "execution_count": 29,
     "metadata": {},
     "output_type": "execute_result"
    }
   ],
   "source": [
    "outliers_removed_data = numeric_data[~ ((numeric_data < (Q1 - 1.5 * IQR)) \\\n",
    "                                       | (numeric_data > (Q3 + 1.5 * IQR))).any(axis=1)]\n",
    "outliers_removed_data.shape"
   ]
  },
  {
   "cell_type": "code",
   "execution_count": 30,
   "metadata": {},
   "outputs": [
    {
     "data": {
      "text/plain": [
       "[Text(0, 0, 'battery_power'),\n",
       " Text(0, 0, 'clock_speed'),\n",
       " Text(0, 0, 'fc_megapixel'),\n",
       " Text(0, 0, 'int_memory'),\n",
       " Text(0, 0, 'm_depth'),\n",
       " Text(0, 0, 'mobile_wt'),\n",
       " Text(0, 0, 'n_cores'),\n",
       " Text(0, 0, 'pc_megapixel'),\n",
       " Text(0, 0, 'px_height'),\n",
       " Text(0, 0, 'px_width'),\n",
       " Text(0, 0, 'ram'),\n",
       " Text(0, 0, 'sc_h'),\n",
       " Text(0, 0, 'sc_w'),\n",
       " Text(0, 0, 'talk_time')]"
      ]
     },
     "execution_count": 30,
     "metadata": {},
     "output_type": "execute_result"
    },
    {
     "data": {
      "image/png": "[encoded data removed]",
      "text/plain": [
       "<Figure size 720x576 with 1 Axes>"
      ]
     },
     "metadata": {
      "needs_background": "light"
     },
     "output_type": "display_data"
    }
   ],
   "source": [
    "fig, ax = plt.subplots(figsize = (10,8))\n",
    "bp = sns.boxplot(data = outliers_removed_data)\n",
    "bp.set_xticklabels(bp.get_xticklabels(), rotation=90)"
   ]
  },
  {
   "cell_type": "markdown",
   "metadata": {},
   "source": [
    "# Now work with ML"
   ]
  },
  {
   "cell_type": "code",
   "execution_count": 31,
   "metadata": {},
   "outputs": [
    {
     "data": {
      "text/html": [
       "<div>\n",
       "<style scoped>\n",
       "    .dataframe tbody tr th:only-of-type {\n",
       "        vertical-align: middle;\n",
       "    }\n",
       "\n",
       "    .dataframe tbody tr th {\n",
       "        vertical-align: top;\n",
       "    }\n",
       "\n",
       "    .dataframe thead th {\n",
       "        text-align: right;\n",
       "    }\n",
       "</style>\n",
       "<table border=\"1\" class=\"dataframe\">\n",
       "  <thead>\n",
       "    <tr style=\"text-align: right;\">\n",
       "      <th></th>\n",
       "      <th>index</th>\n",
       "      <th>battery_power</th>\n",
       "      <th>clock_speed</th>\n",
       "      <th>fc_megapixel</th>\n",
       "      <th>int_memory</th>\n",
       "      <th>m_depth</th>\n",
       "      <th>mobile_wt</th>\n",
       "      <th>n_cores</th>\n",
       "      <th>pc_megapixel</th>\n",
       "      <th>px_height</th>\n",
       "      <th>...</th>\n",
       "      <th>sc_w</th>\n",
       "      <th>talk_time</th>\n",
       "      <th>index</th>\n",
       "      <th>bluetooth</th>\n",
       "      <th>dual_sim</th>\n",
       "      <th>four_g</th>\n",
       "      <th>three_g</th>\n",
       "      <th>touch_screen</th>\n",
       "      <th>wifi</th>\n",
       "      <th>price_range</th>\n",
       "    </tr>\n",
       "  </thead>\n",
       "  <tbody>\n",
       "    <tr>\n",
       "      <th>0</th>\n",
       "      <td>0</td>\n",
       "      <td>-0.902710</td>\n",
       "      <td>0.828590</td>\n",
       "      <td>-0.760901</td>\n",
       "      <td>-1.379076</td>\n",
       "      <td>0.339647</td>\n",
       "      <td>1.032457</td>\n",
       "      <td>-1.100614</td>\n",
       "      <td>-1.305274</td>\n",
       "      <td>-1.410473</td>\n",
       "      <td>...</td>\n",
       "      <td>0.281262</td>\n",
       "      <td>1.461538</td>\n",
       "      <td>0</td>\n",
       "      <td>0</td>\n",
       "      <td>0</td>\n",
       "      <td>0</td>\n",
       "      <td>0</td>\n",
       "      <td>0</td>\n",
       "      <td>1</td>\n",
       "      <td>1</td>\n",
       "    </tr>\n",
       "    <tr>\n",
       "      <th>1</th>\n",
       "      <td>1</td>\n",
       "      <td>-0.495016</td>\n",
       "      <td>-1.254710</td>\n",
       "      <td>-0.991355</td>\n",
       "      <td>1.155222</td>\n",
       "      <td>0.686421</td>\n",
       "      <td>-0.115603</td>\n",
       "      <td>-0.663393</td>\n",
       "      <td>-0.645778</td>\n",
       "      <td>0.588764</td>\n",
       "      <td>...</td>\n",
       "      <td>-0.636722</td>\n",
       "      <td>-0.734484</td>\n",
       "      <td>1</td>\n",
       "      <td>1</td>\n",
       "      <td>1</td>\n",
       "      <td>1</td>\n",
       "      <td>1</td>\n",
       "      <td>1</td>\n",
       "      <td>0</td>\n",
       "      <td>2</td>\n",
       "    </tr>\n",
       "    <tr>\n",
       "      <th>2</th>\n",
       "      <td>2</td>\n",
       "      <td>-1.538165</td>\n",
       "      <td>-1.254710</td>\n",
       "      <td>-0.530448</td>\n",
       "      <td>0.494101</td>\n",
       "      <td>1.379968</td>\n",
       "      <td>-0.005212</td>\n",
       "      <td>0.211050</td>\n",
       "      <td>-0.645778</td>\n",
       "      <td>1.397495</td>\n",
       "      <td>...</td>\n",
       "      <td>-0.866218</td>\n",
       "      <td>-0.368480</td>\n",
       "      <td>2</td>\n",
       "      <td>1</td>\n",
       "      <td>1</td>\n",
       "      <td>1</td>\n",
       "      <td>1</td>\n",
       "      <td>1</td>\n",
       "      <td>0</td>\n",
       "      <td>2</td>\n",
       "    </tr>\n",
       "    <tr>\n",
       "      <th>3</th>\n",
       "      <td>3</td>\n",
       "      <td>-1.419729</td>\n",
       "      <td>1.196232</td>\n",
       "      <td>-0.991355</td>\n",
       "      <td>-1.213795</td>\n",
       "      <td>1.033195</td>\n",
       "      <td>-0.225993</td>\n",
       "      <td>0.648271</td>\n",
       "      <td>-0.151155</td>\n",
       "      <td>1.291321</td>\n",
       "      <td>...</td>\n",
       "      <td>0.510758</td>\n",
       "      <td>-0.002477</td>\n",
       "      <td>3</td>\n",
       "      <td>1</td>\n",
       "      <td>0</td>\n",
       "      <td>0</td>\n",
       "      <td>1</td>\n",
       "      <td>0</td>\n",
       "      <td>0</td>\n",
       "      <td>2</td>\n",
       "    </tr>\n",
       "    <tr>\n",
       "      <th>4</th>\n",
       "      <td>4</td>\n",
       "      <td>1.413628</td>\n",
       "      <td>-1.254710</td>\n",
       "      <td>-0.299994</td>\n",
       "      <td>-0.552674</td>\n",
       "      <td>0.686421</td>\n",
       "      <td>0.502583</td>\n",
       "      <td>-1.537835</td>\n",
       "      <td>-0.480903</td>\n",
       "      <td>0.812408</td>\n",
       "      <td>...</td>\n",
       "      <td>-1.095714</td>\n",
       "      <td>-0.185479</td>\n",
       "      <td>5</td>\n",
       "      <td>0</td>\n",
       "      <td>1</td>\n",
       "      <td>0</td>\n",
       "      <td>1</td>\n",
       "      <td>0</td>\n",
       "      <td>0</td>\n",
       "      <td>1</td>\n",
       "    </tr>\n",
       "  </tbody>\n",
       "</table>\n",
       "<p>5 rows × 23 columns</p>\n",
       "</div>"
      ],
      "text/plain": [
       "   index  battery_power  clock_speed  fc_megapixel  int_memory   m_depth  \\\n",
       "0      0      -0.902710     0.828590     -0.760901   -1.379076  0.339647   \n",
       "1      1      -0.495016    -1.254710     -0.991355    1.155222  0.686421   \n",
       "2      2      -1.538165    -1.254710     -0.530448    0.494101  1.379968   \n",
       "3      3      -1.419729     1.196232     -0.991355   -1.213795  1.033195   \n",
       "4      4       1.413628    -1.254710     -0.299994   -0.552674  0.686421   \n",
       "\n",
       "   mobile_wt   n_cores  pc_megapixel  px_height  ...      sc_w  talk_time  \\\n",
       "0   1.032457 -1.100614     -1.305274  -1.410473  ...  0.281262   1.461538   \n",
       "1  -0.115603 -0.663393     -0.645778   0.588764  ... -0.636722  -0.734484   \n",
       "2  -0.005212  0.211050     -0.645778   1.397495  ... -0.866218  -0.368480   \n",
       "3  -0.225993  0.648271     -0.151155   1.291321  ...  0.510758  -0.002477   \n",
       "4   0.502583 -1.537835     -0.480903   0.812408  ... -1.095714  -0.185479   \n",
       "\n",
       "   index  bluetooth  dual_sim  four_g  three_g  touch_screen  wifi  \\\n",
       "0      0          0         0       0        0             0     1   \n",
       "1      1          1         1       1        1             1     0   \n",
       "2      2          1         1       1        1             1     0   \n",
       "3      3          1         0       0        1             0     0   \n",
       "4      5          0         1       0        1             0     0   \n",
       "\n",
       "   price_range  \n",
       "0            1  \n",
       "1            2  \n",
       "2            2  \n",
       "3            2  \n",
       "4            1  \n",
       "\n",
       "[5 rows x 23 columns]"
      ]
     },
     "execution_count": 31,
     "metadata": {},
     "output_type": "execute_result"
    }
   ],
   "source": [
    "from sklearn.model_selection import train_test_split\n",
    "\n",
    "scaled_data = scaled_data.reset_index()\n",
    "categorical_data = categorical_data.reset_index()\n",
    "\n",
    "final_df = pd.concat([scaled_data, categorical_data], axis=1)\n",
    "final_df.head()"
   ]
  },
  {
   "cell_type": "code",
   "execution_count": 32,
   "metadata": {},
   "outputs": [
    {
     "data": {
      "text/plain": [
       "index            0\n",
       "battery_power    0\n",
       "clock_speed      0\n",
       "fc_megapixel     0\n",
       "int_memory       0\n",
       "m_depth          0\n",
       "mobile_wt        0\n",
       "n_cores          0\n",
       "pc_megapixel     0\n",
       "px_height        0\n",
       "px_width         0\n",
       "ram              0\n",
       "sc_h             0\n",
       "sc_w             0\n",
       "talk_time        0\n",
       "index            0\n",
       "bluetooth        0\n",
       "dual_sim         0\n",
       "four_g           0\n",
       "three_g          0\n",
       "touch_screen     0\n",
       "wifi             0\n",
       "price_range      0\n",
       "dtype: int64"
      ]
     },
     "execution_count": 32,
     "metadata": {},
     "output_type": "execute_result"
    }
   ],
   "source": [
    "final_df.isnull().sum()"
   ]
  },
  {
   "cell_type": "code",
   "execution_count": 33,
   "metadata": {},
   "outputs": [],
   "source": [
    "x = final_df.drop('price_range', axis=1)\n",
    "y = final_df['price_range']"
   ]
  },
  {
   "cell_type": "code",
   "execution_count": 36,
   "metadata": {},
   "outputs": [
    {
     "data": {
      "text/plain": [
       "((1596, 22), (399, 22))"
      ]
     },
     "execution_count": 36,
     "metadata": {},
     "output_type": "execute_result"
    }
   ],
   "source": [
    "x_train, x_test, y_train, y_test = train_test_split(x,y,test_size = 0.20,random_state = 101)\n",
    "x_train.shape, x_test.shape"
   ]
  },
  {
   "cell_type": "code",
   "execution_count": 41,
   "metadata": {},
   "outputs": [],
   "source": [
    "from sklearn.metrics import accuracy_score"
   ]
  },
  {
   "cell_type": "markdown",
   "metadata": {},
   "source": [
    "# LogisticRegression"
   ]
  },
  {
   "cell_type": "code",
   "execution_count": 37,
   "metadata": {},
   "outputs": [],
   "source": [
    "from sklearn.linear_model import LogisticRegression\n",
    "\n",
    "logistic_model = LogisticRegression(solver = 'lbfgs',\n",
    "                                   multi_class='multinomial',\n",
    "                                   max_iter=10000)"
   ]
  },
  {
   "cell_type": "code",
   "execution_count": 53,
   "metadata": {},
   "outputs": [
    {
     "data": {
      "text/plain": [
       "0.9373433583959899"
      ]
     },
     "execution_count": 53,
     "metadata": {},
     "output_type": "execute_result"
    }
   ],
   "source": [
    "logistic_model.fit(x_train,y_train)\n",
    "pred_lr = logistic_model.predict(x_test)\n",
    "logistic_model.score(x_test,y_test)\n"
   ]
  },
  {
   "cell_type": "code",
   "execution_count": 51,
   "metadata": {},
   "outputs": [
    {
     "data": {
      "text/plain": [
       "array([1, 2, 0, 0, 2, 2, 0, 0, 1, 1, 2, 1, 2, 0, 1, 2, 0, 1, 0, 3, 1, 0,\n",
       "       2, 0, 0, 1, 0, 3, 2, 3, 0, 0, 0, 0, 0, 1, 2, 0, 1, 2, 1, 2, 0, 3,\n",
       "       3, 1, 3, 0, 1, 3, 3, 1, 0, 1, 3, 0, 2, 0, 2, 3, 1, 0, 2, 0, 2, 3,\n",
       "       3, 0, 2, 2, 0, 3, 0, 3, 1, 3, 0, 1, 3, 3, 0, 2, 0, 2, 2, 0, 3, 3,\n",
       "       0, 2, 2, 1, 2, 1, 1, 1, 2, 0, 0, 1, 0, 3, 1, 3, 1, 1, 2, 3, 3, 3,\n",
       "       3, 3, 1, 1, 2, 1, 3, 3, 1, 0, 0, 2, 1, 3, 2, 1, 3, 0, 3, 1, 3, 1,\n",
       "       0, 2, 2, 0, 2, 3, 1, 3, 1, 3, 2, 0, 2, 1, 1, 1, 2, 1, 1, 3, 2, 3,\n",
       "       0, 0, 0, 2, 2, 0, 2, 1, 0, 3, 0, 3, 1, 3, 3, 3, 2, 2, 3, 2, 1, 0,\n",
       "       3, 3, 3, 1, 2, 1, 1, 1, 1, 3, 0, 3, 2, 2, 3, 1, 0, 3, 3, 2, 2, 1,\n",
       "       3, 3, 1, 0, 0, 3, 3, 2, 3, 2, 3, 2, 0, 3, 3, 0, 0, 3, 2, 0, 2, 3,\n",
       "       2, 3, 3, 1, 2, 0, 0, 1, 0, 1, 2, 1, 1, 0, 3, 2, 2, 1, 3, 3, 2, 1,\n",
       "       2, 0, 3, 3, 3, 0, 0, 3, 3, 3, 3, 0, 1, 2, 2, 3, 0, 2, 1, 1, 3, 0,\n",
       "       2, 1, 0, 2, 0, 2, 2, 3, 2, 2, 0, 0, 2, 1, 3, 3, 2, 3, 1, 0, 0, 0,\n",
       "       2, 3, 2, 1, 0, 0, 0, 1, 0, 3, 0, 2, 0, 0, 0, 0, 3, 2, 2, 3, 0, 0,\n",
       "       0, 0, 0, 1, 3, 2, 1, 3, 0, 2, 2, 3, 1, 3, 1, 3, 2, 1, 2, 3, 2, 3,\n",
       "       1, 3, 2, 3, 3, 2, 1, 0, 2, 3, 2, 1, 3, 0, 1, 1, 2, 2, 3, 2, 2, 3,\n",
       "       0, 2, 3, 1, 1, 1, 2, 1, 1, 2, 0, 3, 0, 1, 0, 1, 2, 2, 1, 2, 1, 2,\n",
       "       1, 1, 0, 0, 0, 0, 1, 1, 1, 1, 3, 2, 1, 3, 1, 2, 2, 3, 0, 1, 0, 1,\n",
       "       2, 2, 1], dtype=int64)"
      ]
     },
     "execution_count": 51,
     "metadata": {},
     "output_type": "execute_result"
    }
   ],
   "source": [
    "pred_lr"
   ]
  },
  {
   "cell_type": "markdown",
   "metadata": {},
   "source": [
    "# DecisionTreeClassifier"
   ]
  },
  {
   "cell_type": "code",
   "execution_count": 47,
   "metadata": {},
   "outputs": [],
   "source": [
    "from sklearn.tree import DecisionTreeClassifier\n",
    "\n",
    "dt_model = DecisionTreeClassifier()"
   ]
  },
  {
   "cell_type": "code",
   "execution_count": 48,
   "metadata": {},
   "outputs": [],
   "source": [
    "dt_model.fit(x_train,y_train)\n",
    "pred_dt = dt_model.predict(x_test)\n",
    "accuracy_DT = accuracy_score(y_test, pred_dt)"
   ]
  },
  {
   "cell_type": "code",
   "execution_count": 44,
   "metadata": {},
   "outputs": [
    {
     "data": {
      "text/plain": [
       "array([1, 3, 0, 0, 2, 2, 0, 0, 1, 1, 2, 1, 2, 0, 1, 2, 0, 1, 0, 3, 1, 0,\n",
       "       2, 1, 0, 1, 0, 2, 3, 3, 0, 0, 0, 0, 0, 0, 2, 1, 1, 2, 1, 2, 0, 3,\n",
       "       3, 1, 3, 1, 1, 2, 3, 1, 0, 0, 3, 0, 2, 0, 2, 3, 1, 0, 3, 0, 3, 3,\n",
       "       3, 0, 2, 2, 0, 3, 0, 3, 1, 3, 0, 1, 3, 3, 0, 2, 0, 1, 1, 0, 3, 3,\n",
       "       0, 2, 2, 2, 2, 1, 2, 1, 1, 0, 0, 1, 0, 3, 1, 3, 0, 1, 2, 2, 3, 3,\n",
       "       3, 3, 0, 1, 2, 1, 3, 3, 1, 0, 0, 2, 1, 3, 2, 1, 3, 0, 3, 1, 3, 1,\n",
       "       0, 3, 3, 0, 2, 3, 2, 2, 1, 3, 2, 1, 2, 0, 1, 2, 2, 1, 1, 3, 2, 2,\n",
       "       1, 1, 0, 2, 2, 0, 2, 1, 0, 2, 1, 3, 1, 3, 3, 3, 1, 3, 2, 2, 1, 0,\n",
       "       2, 3, 2, 1, 2, 1, 1, 2, 1, 3, 0, 3, 2, 2, 3, 0, 0, 3, 3, 2, 2, 1,\n",
       "       3, 2, 2, 1, 0, 2, 3, 3, 3, 2, 3, 2, 0, 3, 3, 0, 0, 3, 3, 0, 2, 3,\n",
       "       2, 3, 3, 1, 2, 0, 0, 1, 0, 1, 2, 1, 0, 0, 3, 2, 2, 1, 3, 2, 3, 1,\n",
       "       2, 0, 3, 3, 3, 0, 0, 3, 2, 3, 3, 1, 1, 2, 3, 2, 0, 2, 0, 1, 3, 0,\n",
       "       3, 1, 0, 2, 0, 2, 2, 3, 1, 2, 0, 0, 2, 0, 3, 3, 2, 2, 1, 0, 0, 1,\n",
       "       2, 3, 2, 2, 0, 0, 0, 1, 0, 3, 1, 2, 0, 0, 0, 0, 3, 1, 3, 2, 0, 0,\n",
       "       0, 0, 0, 1, 2, 2, 1, 3, 0, 2, 2, 2, 0, 3, 2, 3, 2, 1, 2, 3, 2, 3,\n",
       "       1, 3, 2, 3, 3, 3, 1, 0, 2, 3, 2, 2, 3, 0, 1, 1, 2, 1, 3, 3, 2, 3,\n",
       "       0, 2, 3, 1, 0, 1, 2, 1, 1, 2, 0, 3, 0, 1, 0, 1, 2, 2, 1, 2, 1, 2,\n",
       "       1, 1, 0, 0, 0, 0, 1, 1, 1, 1, 3, 2, 0, 3, 1, 2, 2, 3, 0, 1, 0, 1,\n",
       "       2, 2, 1], dtype=int64)"
      ]
     },
     "execution_count": 44,
     "metadata": {},
     "output_type": "execute_result"
    }
   ],
   "source": [
    "pred_dt"
   ]
  },
  {
   "cell_type": "code",
   "execution_count": 45,
   "metadata": {},
   "outputs": [
    {
     "data": {
      "text/plain": [
       "0.8120300751879699"
      ]
     },
     "execution_count": 45,
     "metadata": {},
     "output_type": "execute_result"
    }
   ],
   "source": [
    "accuracy_DT = accuracy_score(y_test, pred_dt)\n",
    "accuracy_DT"
   ]
  },
  {
   "cell_type": "code",
   "execution_count": null,
   "metadata": {},
   "outputs": [],
   "source": []
  }
 ],
 "metadata": {
  "kernelspec": {
   "display_name": "Python 3",
   "language": "python",
   "name": "python3"
  },
  "language_info": {
   "codemirror_mode": {
    "name": "ipython",
    "version": 3
   },
   "file_extension": ".py",
   "mimetype": "text/x-python",
   "name": "python",
   "nbconvert_exporter": "python",
   "pygments_lexer": "ipython3",
   "version": "3.8.10"
  }
 },
 "nbformat": 4,
 "nbformat_minor": 4
}
